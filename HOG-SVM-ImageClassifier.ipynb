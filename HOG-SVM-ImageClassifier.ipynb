{
 "cells": [
  {
   "cell_type": "markdown",
   "id": "0cf2e621",
   "metadata": {},
   "source": [
    "# Imports"
   ]
  },
  {
   "cell_type": "code",
   "execution_count": 1,
   "id": "36eba801",
   "metadata": {},
   "outputs": [],
   "source": [
    "import numpy as np\n",
    "import pandas as pd\n",
    "from sklearn.preprocessing import LabelEncoder\n",
    "import os\n",
    "import cv2\n",
    "from skimage.feature import hog\n",
    "from sklearn.svm import SVC"
   ]
  },
  {
   "cell_type": "markdown",
   "id": "59482ae1",
   "metadata": {},
   "source": [
    "# \n",
    "# Read Training Data & Extract Features"
   ]
  },
  {
   "cell_type": "code",
   "execution_count": 2,
   "id": "b7d9265a",
   "metadata": {},
   "outputs": [],
   "source": [
    "trainPath = \"D:\\\\Collge\\\\6th Term\\\\Pattern Recognition\\\\Assignments\\\\assignment 3\\\\Assignment dataset\\\\train\""
   ]
  },
  {
   "cell_type": "code",
   "execution_count": 3,
   "id": "ad7e2654",
   "metadata": {},
   "outputs": [],
   "source": [
    "Categories = ['accordian', 'dollar_bill', 'motorbike', 'Soccer_Ball']"
   ]
  },
  {
   "cell_type": "code",
   "execution_count": 4,
   "id": "619f7ce1",
   "metadata": {},
   "outputs": [],
   "source": [
    "xtrain = []\n",
    "ytrain = []"
   ]
  },
  {
   "cell_type": "code",
   "execution_count": 5,
   "id": "5656bc76",
   "metadata": {
    "scrolled": true
   },
   "outputs": [
    {
     "name": "stderr",
     "output_type": "stream",
     "text": [
      "C:\\Users\\abdos\\AppData\\Local\\Temp\\ipykernel_10200\\2549867164.py:12: FutureWarning: `multichannel` is a deprecated argument name for `hog`. It will be removed in version 1.0. Please use `channel_axis` instead.\n",
      "  fd, hog_image = hog(img, orientations=9, pixels_per_cell=(8,8), cells_per_block=(2,2), visualize=True, multichannel=True)\n"
     ]
    }
   ],
   "source": [
    "i = 0\n",
    "for category in Categories:\n",
    "    categoryPath = os.path.join(trainPath,category)\n",
    "    #print(categoryPath)\n",
    "    for imgName in os.listdir(categoryPath):\n",
    "        # Get the image\n",
    "        imagePath = os.path.join(categoryPath,imgName)\n",
    "        img = cv2.imread(imagePath)\n",
    "        # Resize image\n",
    "        img = cv2.resize(img, (128,64))\n",
    "        # Extract image features\n",
    "        fd, hog_image = hog(img, orientations=9, pixels_per_cell=(8,8), cells_per_block=(2,2), visualize=True, multichannel=True)\n",
    "        xtrain.append(fd)\n",
    "        ytrain.append(i)\n",
    "    i += 1"
   ]
  },
  {
   "cell_type": "code",
   "execution_count": 6,
   "id": "27374bb4",
   "metadata": {},
   "outputs": [],
   "source": [
    "xtrain = np.array(xtrain)\n",
    "ytrain = np.array(ytrain)"
   ]
  },
  {
   "cell_type": "code",
   "execution_count": 7,
   "id": "649a59ff",
   "metadata": {},
   "outputs": [],
   "source": [
    "# Convert xtrain and ytrain arrays to pandas dataframe\n",
    "df = pd.DataFrame(data=xtrain, columns=[f\"hog_feature_{i}\" for i in range(len(xtrain[0]))])\n",
    "df['label'] = ytrain"
   ]
  },
  {
   "cell_type": "code",
   "execution_count": 8,
   "id": "fd65467e",
   "metadata": {},
   "outputs": [
    {
     "data": {
      "text/html": [
       "<div>\n",
       "<style scoped>\n",
       "    .dataframe tbody tr th:only-of-type {\n",
       "        vertical-align: middle;\n",
       "    }\n",
       "\n",
       "    .dataframe tbody tr th {\n",
       "        vertical-align: top;\n",
       "    }\n",
       "\n",
       "    .dataframe thead th {\n",
       "        text-align: right;\n",
       "    }\n",
       "</style>\n",
       "<table border=\"1\" class=\"dataframe\">\n",
       "  <thead>\n",
       "    <tr style=\"text-align: right;\">\n",
       "      <th></th>\n",
       "      <th>hog_feature_0</th>\n",
       "      <th>hog_feature_1</th>\n",
       "      <th>hog_feature_2</th>\n",
       "      <th>hog_feature_3</th>\n",
       "      <th>hog_feature_4</th>\n",
       "      <th>hog_feature_5</th>\n",
       "      <th>hog_feature_6</th>\n",
       "      <th>hog_feature_7</th>\n",
       "      <th>hog_feature_8</th>\n",
       "      <th>hog_feature_9</th>\n",
       "      <th>...</th>\n",
       "      <th>hog_feature_3771</th>\n",
       "      <th>hog_feature_3772</th>\n",
       "      <th>hog_feature_3773</th>\n",
       "      <th>hog_feature_3774</th>\n",
       "      <th>hog_feature_3775</th>\n",
       "      <th>hog_feature_3776</th>\n",
       "      <th>hog_feature_3777</th>\n",
       "      <th>hog_feature_3778</th>\n",
       "      <th>hog_feature_3779</th>\n",
       "      <th>label</th>\n",
       "    </tr>\n",
       "  </thead>\n",
       "  <tbody>\n",
       "    <tr>\n",
       "      <th>0</th>\n",
       "      <td>0.000000</td>\n",
       "      <td>0.0</td>\n",
       "      <td>0.0</td>\n",
       "      <td>0.000000</td>\n",
       "      <td>0.000000</td>\n",
       "      <td>0.0</td>\n",
       "      <td>0.000000</td>\n",
       "      <td>0.0</td>\n",
       "      <td>0.0</td>\n",
       "      <td>0.005418</td>\n",
       "      <td>...</td>\n",
       "      <td>0.00000</td>\n",
       "      <td>0.0</td>\n",
       "      <td>0.000000</td>\n",
       "      <td>0.0</td>\n",
       "      <td>0.000000</td>\n",
       "      <td>0.0</td>\n",
       "      <td>0.0</td>\n",
       "      <td>0.0</td>\n",
       "      <td>0.0</td>\n",
       "      <td>0</td>\n",
       "    </tr>\n",
       "    <tr>\n",
       "      <th>1</th>\n",
       "      <td>0.001939</td>\n",
       "      <td>0.0</td>\n",
       "      <td>0.0</td>\n",
       "      <td>0.004336</td>\n",
       "      <td>0.027242</td>\n",
       "      <td>0.0</td>\n",
       "      <td>0.002742</td>\n",
       "      <td>0.0</td>\n",
       "      <td>0.0</td>\n",
       "      <td>0.017451</td>\n",
       "      <td>...</td>\n",
       "      <td>0.01185</td>\n",
       "      <td>0.0</td>\n",
       "      <td>0.002095</td>\n",
       "      <td>0.0</td>\n",
       "      <td>0.041523</td>\n",
       "      <td>0.0</td>\n",
       "      <td>0.0</td>\n",
       "      <td>0.0</td>\n",
       "      <td>0.0</td>\n",
       "      <td>0</td>\n",
       "    </tr>\n",
       "    <tr>\n",
       "      <th>2</th>\n",
       "      <td>0.000000</td>\n",
       "      <td>0.0</td>\n",
       "      <td>0.0</td>\n",
       "      <td>0.000000</td>\n",
       "      <td>0.000000</td>\n",
       "      <td>0.0</td>\n",
       "      <td>0.000000</td>\n",
       "      <td>0.0</td>\n",
       "      <td>0.0</td>\n",
       "      <td>0.000000</td>\n",
       "      <td>...</td>\n",
       "      <td>0.00000</td>\n",
       "      <td>0.0</td>\n",
       "      <td>0.000000</td>\n",
       "      <td>0.0</td>\n",
       "      <td>0.000000</td>\n",
       "      <td>0.0</td>\n",
       "      <td>0.0</td>\n",
       "      <td>0.0</td>\n",
       "      <td>0.0</td>\n",
       "      <td>0</td>\n",
       "    </tr>\n",
       "    <tr>\n",
       "      <th>3</th>\n",
       "      <td>0.000000</td>\n",
       "      <td>0.0</td>\n",
       "      <td>0.0</td>\n",
       "      <td>0.000000</td>\n",
       "      <td>0.000000</td>\n",
       "      <td>0.0</td>\n",
       "      <td>0.000000</td>\n",
       "      <td>0.0</td>\n",
       "      <td>0.0</td>\n",
       "      <td>0.000000</td>\n",
       "      <td>...</td>\n",
       "      <td>0.00000</td>\n",
       "      <td>0.0</td>\n",
       "      <td>0.000000</td>\n",
       "      <td>0.0</td>\n",
       "      <td>0.000000</td>\n",
       "      <td>0.0</td>\n",
       "      <td>0.0</td>\n",
       "      <td>0.0</td>\n",
       "      <td>0.0</td>\n",
       "      <td>0</td>\n",
       "    </tr>\n",
       "    <tr>\n",
       "      <th>4</th>\n",
       "      <td>0.000000</td>\n",
       "      <td>0.0</td>\n",
       "      <td>0.0</td>\n",
       "      <td>0.000000</td>\n",
       "      <td>0.000000</td>\n",
       "      <td>0.0</td>\n",
       "      <td>0.000000</td>\n",
       "      <td>0.0</td>\n",
       "      <td>0.0</td>\n",
       "      <td>0.000000</td>\n",
       "      <td>...</td>\n",
       "      <td>0.00000</td>\n",
       "      <td>0.0</td>\n",
       "      <td>0.000000</td>\n",
       "      <td>0.0</td>\n",
       "      <td>0.000000</td>\n",
       "      <td>0.0</td>\n",
       "      <td>0.0</td>\n",
       "      <td>0.0</td>\n",
       "      <td>0.0</td>\n",
       "      <td>0</td>\n",
       "    </tr>\n",
       "  </tbody>\n",
       "</table>\n",
       "<p>5 rows × 3781 columns</p>\n",
       "</div>"
      ],
      "text/plain": [
       "   hog_feature_0  hog_feature_1  hog_feature_2  hog_feature_3  hog_feature_4  \\\n",
       "0       0.000000            0.0            0.0       0.000000       0.000000   \n",
       "1       0.001939            0.0            0.0       0.004336       0.027242   \n",
       "2       0.000000            0.0            0.0       0.000000       0.000000   \n",
       "3       0.000000            0.0            0.0       0.000000       0.000000   \n",
       "4       0.000000            0.0            0.0       0.000000       0.000000   \n",
       "\n",
       "   hog_feature_5  hog_feature_6  hog_feature_7  hog_feature_8  hog_feature_9  \\\n",
       "0            0.0       0.000000            0.0            0.0       0.005418   \n",
       "1            0.0       0.002742            0.0            0.0       0.017451   \n",
       "2            0.0       0.000000            0.0            0.0       0.000000   \n",
       "3            0.0       0.000000            0.0            0.0       0.000000   \n",
       "4            0.0       0.000000            0.0            0.0       0.000000   \n",
       "\n",
       "   ...  hog_feature_3771  hog_feature_3772  hog_feature_3773  \\\n",
       "0  ...           0.00000               0.0          0.000000   \n",
       "1  ...           0.01185               0.0          0.002095   \n",
       "2  ...           0.00000               0.0          0.000000   \n",
       "3  ...           0.00000               0.0          0.000000   \n",
       "4  ...           0.00000               0.0          0.000000   \n",
       "\n",
       "   hog_feature_3774  hog_feature_3775  hog_feature_3776  hog_feature_3777  \\\n",
       "0               0.0          0.000000               0.0               0.0   \n",
       "1               0.0          0.041523               0.0               0.0   \n",
       "2               0.0          0.000000               0.0               0.0   \n",
       "3               0.0          0.000000               0.0               0.0   \n",
       "4               0.0          0.000000               0.0               0.0   \n",
       "\n",
       "   hog_feature_3778  hog_feature_3779  label  \n",
       "0               0.0               0.0      0  \n",
       "1               0.0               0.0      0  \n",
       "2               0.0               0.0      0  \n",
       "3               0.0               0.0      0  \n",
       "4               0.0               0.0      0  \n",
       "\n",
       "[5 rows x 3781 columns]"
      ]
     },
     "execution_count": 8,
     "metadata": {},
     "output_type": "execute_result"
    }
   ],
   "source": [
    "df.head()"
   ]
  },
  {
   "cell_type": "code",
   "execution_count": 9,
   "id": "7d9d238e",
   "metadata": {},
   "outputs": [
    {
     "data": {
      "text/plain": [
       "(57, 3781)"
      ]
     },
     "execution_count": 9,
     "metadata": {},
     "output_type": "execute_result"
    }
   ],
   "source": [
    "df.shape"
   ]
  },
  {
   "cell_type": "code",
   "execution_count": 10,
   "id": "f0973735",
   "metadata": {},
   "outputs": [],
   "source": [
    "xtrain = df.drop(['label'], axis='columns')\n",
    "ytrain = df.label"
   ]
  },
  {
   "cell_type": "markdown",
   "id": "1c58577e",
   "metadata": {},
   "source": [
    "# \n",
    "# Models & Training"
   ]
  },
  {
   "cell_type": "code",
   "execution_count": 11,
   "id": "92bd2888",
   "metadata": {},
   "outputs": [
    {
     "data": {
      "text/plain": [
       "SVC()"
      ]
     },
     "execution_count": 11,
     "metadata": {},
     "output_type": "execute_result"
    }
   ],
   "source": [
    "model1 = SVC()\n",
    "model1.fit(xtrain, ytrain)"
   ]
  },
  {
   "cell_type": "code",
   "execution_count": 12,
   "id": "35a7a282",
   "metadata": {},
   "outputs": [
    {
     "data": {
      "text/plain": [
       "SVC(C=1)"
      ]
     },
     "execution_count": 12,
     "metadata": {},
     "output_type": "execute_result"
    }
   ],
   "source": [
    "model2 = SVC(C = 1)\n",
    "model2.fit(xtrain, ytrain)"
   ]
  },
  {
   "cell_type": "code",
   "execution_count": 13,
   "id": "49cb8433",
   "metadata": {},
   "outputs": [
    {
     "data": {
      "text/plain": [
       "SVC(C=1, kernel='linear')"
      ]
     },
     "execution_count": 13,
     "metadata": {},
     "output_type": "execute_result"
    }
   ],
   "source": [
    "C = 1\n",
    "model3 = SVC(kernel='linear',C=C)\n",
    "model3.fit(xtrain, ytrain)"
   ]
  },
  {
   "cell_type": "code",
   "execution_count": 14,
   "id": "02c7a147",
   "metadata": {},
   "outputs": [
    {
     "data": {
      "text/plain": [
       "SVC(kernel='linear')"
      ]
     },
     "execution_count": 14,
     "metadata": {},
     "output_type": "execute_result"
    }
   ],
   "source": [
    "kernelModel = SVC(kernel='linear')\n",
    "kernelModel.fit(xtrain,ytrain)"
   ]
  },
  {
   "cell_type": "markdown",
   "id": "a8d64f21",
   "metadata": {},
   "source": [
    "# \n",
    "# Read Testing Data & Extract Features"
   ]
  },
  {
   "cell_type": "code",
   "execution_count": 15,
   "id": "23c40a74",
   "metadata": {},
   "outputs": [],
   "source": [
    "testPath = \"D:\\\\Collge\\\\6th Term\\\\Pattern Recognition\\\\Assignments\\\\assignment 3\\\\Assignment dataset\\\\test\""
   ]
  },
  {
   "cell_type": "code",
   "execution_count": 16,
   "id": "7c2f613d",
   "metadata": {},
   "outputs": [],
   "source": [
    "xtest = []\n",
    "ytest = []"
   ]
  },
  {
   "cell_type": "code",
   "execution_count": 17,
   "id": "b9e262ec",
   "metadata": {},
   "outputs": [
    {
     "name": "stderr",
     "output_type": "stream",
     "text": [
      "C:\\Users\\abdos\\AppData\\Local\\Temp\\ipykernel_10200\\3864054159.py:12: FutureWarning: `multichannel` is a deprecated argument name for `hog`. It will be removed in version 1.0. Please use `channel_axis` instead.\n",
      "  fd, hog_image = hog(img, orientations=9, pixels_per_cell=(8,8), cells_per_block=(2,2), visualize=True, multichannel=True)\n"
     ]
    }
   ],
   "source": [
    "i = 0\n",
    "for category in Categories:\n",
    "    categoryPath = os.path.join(testPath,category)\n",
    "    #print(categoryPath)\n",
    "    for imgName in os.listdir(categoryPath):\n",
    "        # Get the image\n",
    "        imagePath = os.path.join(categoryPath,imgName)\n",
    "        img = cv2.imread(imagePath)\n",
    "        # Resize image\n",
    "        img = cv2.resize(img, (128,64))\n",
    "        # Extract image features\n",
    "        fd, hog_image = hog(img, orientations=9, pixels_per_cell=(8,8), cells_per_block=(2,2), visualize=True, multichannel=True)\n",
    "        xtest.append(fd)\n",
    "        ytest.append(i)\n",
    "    i += 1"
   ]
  },
  {
   "cell_type": "code",
   "execution_count": 18,
   "id": "031f74f8",
   "metadata": {},
   "outputs": [],
   "source": [
    "# Convert xtest and ytest arrays to pandas dataframe\n",
    "df2 = pd.DataFrame(data=xtest, columns=[f\"hog_feature_{i}\" for i in range(len(xtest[0]))])\n",
    "df2['label'] = ytest"
   ]
  },
  {
   "cell_type": "code",
   "execution_count": 19,
   "id": "3403ceda",
   "metadata": {},
   "outputs": [
    {
     "data": {
      "text/html": [
       "<div>\n",
       "<style scoped>\n",
       "    .dataframe tbody tr th:only-of-type {\n",
       "        vertical-align: middle;\n",
       "    }\n",
       "\n",
       "    .dataframe tbody tr th {\n",
       "        vertical-align: top;\n",
       "    }\n",
       "\n",
       "    .dataframe thead th {\n",
       "        text-align: right;\n",
       "    }\n",
       "</style>\n",
       "<table border=\"1\" class=\"dataframe\">\n",
       "  <thead>\n",
       "    <tr style=\"text-align: right;\">\n",
       "      <th></th>\n",
       "      <th>hog_feature_0</th>\n",
       "      <th>hog_feature_1</th>\n",
       "      <th>hog_feature_2</th>\n",
       "      <th>hog_feature_3</th>\n",
       "      <th>hog_feature_4</th>\n",
       "      <th>hog_feature_5</th>\n",
       "      <th>hog_feature_6</th>\n",
       "      <th>hog_feature_7</th>\n",
       "      <th>hog_feature_8</th>\n",
       "      <th>hog_feature_9</th>\n",
       "      <th>...</th>\n",
       "      <th>hog_feature_3771</th>\n",
       "      <th>hog_feature_3772</th>\n",
       "      <th>hog_feature_3773</th>\n",
       "      <th>hog_feature_3774</th>\n",
       "      <th>hog_feature_3775</th>\n",
       "      <th>hog_feature_3776</th>\n",
       "      <th>hog_feature_3777</th>\n",
       "      <th>hog_feature_3778</th>\n",
       "      <th>hog_feature_3779</th>\n",
       "      <th>label</th>\n",
       "    </tr>\n",
       "  </thead>\n",
       "  <tbody>\n",
       "    <tr>\n",
       "      <th>0</th>\n",
       "      <td>0.000000</td>\n",
       "      <td>0.000000</td>\n",
       "      <td>0.000000</td>\n",
       "      <td>0.000000</td>\n",
       "      <td>0.000000</td>\n",
       "      <td>0.000000</td>\n",
       "      <td>0.000000</td>\n",
       "      <td>0.000000</td>\n",
       "      <td>0.000000</td>\n",
       "      <td>0.000000</td>\n",
       "      <td>...</td>\n",
       "      <td>0.000000</td>\n",
       "      <td>0.000000</td>\n",
       "      <td>0.000000</td>\n",
       "      <td>0.000000</td>\n",
       "      <td>0.000000</td>\n",
       "      <td>0.000000</td>\n",
       "      <td>0.000000</td>\n",
       "      <td>0.000000</td>\n",
       "      <td>0.000000</td>\n",
       "      <td>0</td>\n",
       "    </tr>\n",
       "    <tr>\n",
       "      <th>1</th>\n",
       "      <td>0.000000</td>\n",
       "      <td>0.000000</td>\n",
       "      <td>0.000000</td>\n",
       "      <td>0.000000</td>\n",
       "      <td>0.000000</td>\n",
       "      <td>0.000000</td>\n",
       "      <td>0.000000</td>\n",
       "      <td>0.000000</td>\n",
       "      <td>0.000000</td>\n",
       "      <td>0.000000</td>\n",
       "      <td>...</td>\n",
       "      <td>0.000000</td>\n",
       "      <td>0.000000</td>\n",
       "      <td>0.000000</td>\n",
       "      <td>0.000000</td>\n",
       "      <td>0.000000</td>\n",
       "      <td>0.000000</td>\n",
       "      <td>0.000000</td>\n",
       "      <td>0.000000</td>\n",
       "      <td>0.000000</td>\n",
       "      <td>0</td>\n",
       "    </tr>\n",
       "    <tr>\n",
       "      <th>2</th>\n",
       "      <td>0.011032</td>\n",
       "      <td>0.289088</td>\n",
       "      <td>0.008029</td>\n",
       "      <td>0.188319</td>\n",
       "      <td>0.263691</td>\n",
       "      <td>0.031972</td>\n",
       "      <td>0.021710</td>\n",
       "      <td>0.002446</td>\n",
       "      <td>0.115271</td>\n",
       "      <td>0.040374</td>\n",
       "      <td>...</td>\n",
       "      <td>0.270520</td>\n",
       "      <td>0.159588</td>\n",
       "      <td>0.214607</td>\n",
       "      <td>0.164174</td>\n",
       "      <td>0.184671</td>\n",
       "      <td>0.194833</td>\n",
       "      <td>0.021323</td>\n",
       "      <td>0.010148</td>\n",
       "      <td>0.088719</td>\n",
       "      <td>1</td>\n",
       "    </tr>\n",
       "    <tr>\n",
       "      <th>3</th>\n",
       "      <td>0.131815</td>\n",
       "      <td>0.043308</td>\n",
       "      <td>0.191307</td>\n",
       "      <td>0.050186</td>\n",
       "      <td>0.256438</td>\n",
       "      <td>0.163570</td>\n",
       "      <td>0.089303</td>\n",
       "      <td>0.042477</td>\n",
       "      <td>0.117442</td>\n",
       "      <td>0.235987</td>\n",
       "      <td>...</td>\n",
       "      <td>0.213863</td>\n",
       "      <td>0.122265</td>\n",
       "      <td>0.026383</td>\n",
       "      <td>0.089607</td>\n",
       "      <td>0.300151</td>\n",
       "      <td>0.008695</td>\n",
       "      <td>0.002991</td>\n",
       "      <td>0.023245</td>\n",
       "      <td>0.005441</td>\n",
       "      <td>1</td>\n",
       "    </tr>\n",
       "    <tr>\n",
       "      <th>4</th>\n",
       "      <td>0.276395</td>\n",
       "      <td>0.154545</td>\n",
       "      <td>0.145701</td>\n",
       "      <td>0.276395</td>\n",
       "      <td>0.110683</td>\n",
       "      <td>0.015166</td>\n",
       "      <td>0.000000</td>\n",
       "      <td>0.039667</td>\n",
       "      <td>0.276395</td>\n",
       "      <td>0.119087</td>\n",
       "      <td>...</td>\n",
       "      <td>0.377973</td>\n",
       "      <td>0.025280</td>\n",
       "      <td>0.124874</td>\n",
       "      <td>0.006974</td>\n",
       "      <td>0.157785</td>\n",
       "      <td>0.011531</td>\n",
       "      <td>0.003506</td>\n",
       "      <td>0.010693</td>\n",
       "      <td>0.295273</td>\n",
       "      <td>2</td>\n",
       "    </tr>\n",
       "    <tr>\n",
       "      <th>5</th>\n",
       "      <td>0.554129</td>\n",
       "      <td>0.000000</td>\n",
       "      <td>0.028264</td>\n",
       "      <td>0.000000</td>\n",
       "      <td>0.029979</td>\n",
       "      <td>0.022345</td>\n",
       "      <td>0.000000</td>\n",
       "      <td>0.000000</td>\n",
       "      <td>0.111739</td>\n",
       "      <td>0.309782</td>\n",
       "      <td>...</td>\n",
       "      <td>0.373437</td>\n",
       "      <td>0.000000</td>\n",
       "      <td>0.139245</td>\n",
       "      <td>0.000000</td>\n",
       "      <td>0.000000</td>\n",
       "      <td>0.000000</td>\n",
       "      <td>0.000000</td>\n",
       "      <td>0.000000</td>\n",
       "      <td>0.373437</td>\n",
       "      <td>2</td>\n",
       "    </tr>\n",
       "    <tr>\n",
       "      <th>6</th>\n",
       "      <td>0.000000</td>\n",
       "      <td>0.000000</td>\n",
       "      <td>0.000000</td>\n",
       "      <td>0.000000</td>\n",
       "      <td>0.000000</td>\n",
       "      <td>0.000000</td>\n",
       "      <td>0.000000</td>\n",
       "      <td>0.000000</td>\n",
       "      <td>0.000000</td>\n",
       "      <td>0.005689</td>\n",
       "      <td>...</td>\n",
       "      <td>0.000000</td>\n",
       "      <td>0.000000</td>\n",
       "      <td>0.000000</td>\n",
       "      <td>0.000000</td>\n",
       "      <td>0.000000</td>\n",
       "      <td>0.000000</td>\n",
       "      <td>0.000000</td>\n",
       "      <td>0.000000</td>\n",
       "      <td>0.000000</td>\n",
       "      <td>3</td>\n",
       "    </tr>\n",
       "    <tr>\n",
       "      <th>7</th>\n",
       "      <td>0.182974</td>\n",
       "      <td>0.040914</td>\n",
       "      <td>0.103506</td>\n",
       "      <td>0.203555</td>\n",
       "      <td>0.290053</td>\n",
       "      <td>0.290053</td>\n",
       "      <td>0.189063</td>\n",
       "      <td>0.193754</td>\n",
       "      <td>0.057861</td>\n",
       "      <td>0.290053</td>\n",
       "      <td>...</td>\n",
       "      <td>0.252149</td>\n",
       "      <td>0.058756</td>\n",
       "      <td>0.087098</td>\n",
       "      <td>0.252149</td>\n",
       "      <td>0.252149</td>\n",
       "      <td>0.175852</td>\n",
       "      <td>0.150061</td>\n",
       "      <td>0.058756</td>\n",
       "      <td>0.105085</td>\n",
       "      <td>3</td>\n",
       "    </tr>\n",
       "    <tr>\n",
       "      <th>8</th>\n",
       "      <td>0.084456</td>\n",
       "      <td>0.050780</td>\n",
       "      <td>0.018148</td>\n",
       "      <td>0.135430</td>\n",
       "      <td>0.529638</td>\n",
       "      <td>0.041462</td>\n",
       "      <td>0.020532</td>\n",
       "      <td>0.029318</td>\n",
       "      <td>0.000000</td>\n",
       "      <td>0.040961</td>\n",
       "      <td>...</td>\n",
       "      <td>0.220605</td>\n",
       "      <td>0.085314</td>\n",
       "      <td>0.220605</td>\n",
       "      <td>0.136265</td>\n",
       "      <td>0.220605</td>\n",
       "      <td>0.072471</td>\n",
       "      <td>0.170382</td>\n",
       "      <td>0.184216</td>\n",
       "      <td>0.220605</td>\n",
       "      <td>3</td>\n",
       "    </tr>\n",
       "  </tbody>\n",
       "</table>\n",
       "<p>9 rows × 3781 columns</p>\n",
       "</div>"
      ],
      "text/plain": [
       "   hog_feature_0  hog_feature_1  hog_feature_2  hog_feature_3  hog_feature_4  \\\n",
       "0       0.000000       0.000000       0.000000       0.000000       0.000000   \n",
       "1       0.000000       0.000000       0.000000       0.000000       0.000000   \n",
       "2       0.011032       0.289088       0.008029       0.188319       0.263691   \n",
       "3       0.131815       0.043308       0.191307       0.050186       0.256438   \n",
       "4       0.276395       0.154545       0.145701       0.276395       0.110683   \n",
       "5       0.554129       0.000000       0.028264       0.000000       0.029979   \n",
       "6       0.000000       0.000000       0.000000       0.000000       0.000000   \n",
       "7       0.182974       0.040914       0.103506       0.203555       0.290053   \n",
       "8       0.084456       0.050780       0.018148       0.135430       0.529638   \n",
       "\n",
       "   hog_feature_5  hog_feature_6  hog_feature_7  hog_feature_8  hog_feature_9  \\\n",
       "0       0.000000       0.000000       0.000000       0.000000       0.000000   \n",
       "1       0.000000       0.000000       0.000000       0.000000       0.000000   \n",
       "2       0.031972       0.021710       0.002446       0.115271       0.040374   \n",
       "3       0.163570       0.089303       0.042477       0.117442       0.235987   \n",
       "4       0.015166       0.000000       0.039667       0.276395       0.119087   \n",
       "5       0.022345       0.000000       0.000000       0.111739       0.309782   \n",
       "6       0.000000       0.000000       0.000000       0.000000       0.005689   \n",
       "7       0.290053       0.189063       0.193754       0.057861       0.290053   \n",
       "8       0.041462       0.020532       0.029318       0.000000       0.040961   \n",
       "\n",
       "   ...  hog_feature_3771  hog_feature_3772  hog_feature_3773  \\\n",
       "0  ...          0.000000          0.000000          0.000000   \n",
       "1  ...          0.000000          0.000000          0.000000   \n",
       "2  ...          0.270520          0.159588          0.214607   \n",
       "3  ...          0.213863          0.122265          0.026383   \n",
       "4  ...          0.377973          0.025280          0.124874   \n",
       "5  ...          0.373437          0.000000          0.139245   \n",
       "6  ...          0.000000          0.000000          0.000000   \n",
       "7  ...          0.252149          0.058756          0.087098   \n",
       "8  ...          0.220605          0.085314          0.220605   \n",
       "\n",
       "   hog_feature_3774  hog_feature_3775  hog_feature_3776  hog_feature_3777  \\\n",
       "0          0.000000          0.000000          0.000000          0.000000   \n",
       "1          0.000000          0.000000          0.000000          0.000000   \n",
       "2          0.164174          0.184671          0.194833          0.021323   \n",
       "3          0.089607          0.300151          0.008695          0.002991   \n",
       "4          0.006974          0.157785          0.011531          0.003506   \n",
       "5          0.000000          0.000000          0.000000          0.000000   \n",
       "6          0.000000          0.000000          0.000000          0.000000   \n",
       "7          0.252149          0.252149          0.175852          0.150061   \n",
       "8          0.136265          0.220605          0.072471          0.170382   \n",
       "\n",
       "   hog_feature_3778  hog_feature_3779  label  \n",
       "0          0.000000          0.000000      0  \n",
       "1          0.000000          0.000000      0  \n",
       "2          0.010148          0.088719      1  \n",
       "3          0.023245          0.005441      1  \n",
       "4          0.010693          0.295273      2  \n",
       "5          0.000000          0.373437      2  \n",
       "6          0.000000          0.000000      3  \n",
       "7          0.058756          0.105085      3  \n",
       "8          0.184216          0.220605      3  \n",
       "\n",
       "[9 rows x 3781 columns]"
      ]
     },
     "execution_count": 19,
     "metadata": {},
     "output_type": "execute_result"
    }
   ],
   "source": [
    "df2"
   ]
  },
  {
   "cell_type": "code",
   "execution_count": 20,
   "id": "de0013b0",
   "metadata": {},
   "outputs": [],
   "source": [
    "xtest = df2.drop(['label'], axis='columns')\n",
    "ytest = df2.label"
   ]
  },
  {
   "cell_type": "markdown",
   "id": "043c691b",
   "metadata": {},
   "source": [
    "# \n",
    "# Testing"
   ]
  },
  {
   "cell_type": "code",
   "execution_count": 21,
   "id": "0ffc77d1",
   "metadata": {},
   "outputs": [
    {
     "data": {
      "text/plain": [
       "0.8888888888888888"
      ]
     },
     "execution_count": 21,
     "metadata": {},
     "output_type": "execute_result"
    }
   ],
   "source": [
    "model1.score(xtest,ytest)"
   ]
  },
  {
   "cell_type": "code",
   "execution_count": 22,
   "id": "6c6f9699",
   "metadata": {},
   "outputs": [
    {
     "data": {
      "text/plain": [
       "0.8888888888888888"
      ]
     },
     "execution_count": 22,
     "metadata": {},
     "output_type": "execute_result"
    }
   ],
   "source": [
    "model2.score(xtest,ytest)"
   ]
  },
  {
   "cell_type": "code",
   "execution_count": 23,
   "id": "d24e14a3",
   "metadata": {},
   "outputs": [
    {
     "data": {
      "text/plain": [
       "0.8888888888888888"
      ]
     },
     "execution_count": 23,
     "metadata": {},
     "output_type": "execute_result"
    }
   ],
   "source": [
    "model3.score(xtest,ytest)"
   ]
  },
  {
   "cell_type": "code",
   "execution_count": 24,
   "id": "86d9a12a",
   "metadata": {},
   "outputs": [
    {
     "data": {
      "text/plain": [
       "0.8888888888888888"
      ]
     },
     "execution_count": 24,
     "metadata": {},
     "output_type": "execute_result"
    }
   ],
   "source": [
    "kernelModel.score(xtest,ytest)"
   ]
  }
 ],
 "metadata": {
  "kernelspec": {
   "display_name": "Python 3 (ipykernel)",
   "language": "python",
   "name": "python3"
  },
  "language_info": {
   "codemirror_mode": {
    "name": "ipython",
    "version": 3
   },
   "file_extension": ".py",
   "mimetype": "text/x-python",
   "name": "python",
   "nbconvert_exporter": "python",
   "pygments_lexer": "ipython3",
   "version": "3.9.13"
  }
 },
 "nbformat": 4,
 "nbformat_minor": 5
}
